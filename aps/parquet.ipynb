{
  "nbformat": 4,
  "nbformat_minor": 0,
  "metadata": {
    "colab": {
      "provenance": [],
      "mount_file_id": "1GI5XR0pe_lAodQlsCwpuu9ShXFQ1zIEU",
      "authorship_tag": "ABX9TyM4P0drd+tNyKvgWbJ/W7L1",
      "include_colab_link": true
    },
    "kernelspec": {
      "name": "python3",
      "display_name": "Python 3"
    },
    "language_info": {
      "name": "python"
    }
  },
  "cells": [
    {
      "cell_type": "markdown",
      "metadata": {
        "id": "view-in-github",
        "colab_type": "text"
      },
      "source": [
        "<a href=\"https://colab.research.google.com/github/DS-17-Projects-Tracking/NMPEDdata/blob/robert/aps/parquet.ipynb\" target=\"_parent\"><img src=\"https://colab.research.google.com/assets/colab-badge.svg\" alt=\"Open In Colab\"/></a>"
      ]
    },
    {
      "cell_type": "code",
      "source": [
        "import pandas as pd\n",
        "url = \"https://github.com/DS-17-Projects-Tracking/NMPEDdata/raw/refs/heads/main/aps/survey_df01.parquet\"\n",
        "pd.read_parquet(url).shape\n"
      ],
      "metadata": {
        "id": "d4VLeEpMzMAB",
        "colab": {
          "base_uri": "https://localhost:8080/"
        },
        "outputId": "b6c2dd09-cb77-4d6d-84d1-ccde88003b30"
      },
      "execution_count": 4,
      "outputs": [
        {
          "output_type": "execute_result",
          "data": {
            "text/plain": [
              "(183280, 11)"
            ]
          },
          "metadata": {},
          "execution_count": 4
        }
      ]
    },
    {
      "cell_type": "code",
      "source": [],
      "metadata": {
        "id": "QTO3rnNRK1QK"
      },
      "execution_count": null,
      "outputs": []
    }
  ]
}